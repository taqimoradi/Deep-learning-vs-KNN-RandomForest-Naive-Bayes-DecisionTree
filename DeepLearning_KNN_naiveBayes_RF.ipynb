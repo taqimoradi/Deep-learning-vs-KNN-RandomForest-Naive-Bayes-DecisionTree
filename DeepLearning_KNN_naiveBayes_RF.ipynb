{
 "cells": [
  {
   "cell_type": "markdown",
   "metadata": {},
   "source": [
    "The given dataset contains details about organic chemical compounds including their chemical features, isomeric conformation, names and the classes in which they are classified so for classification I use both deep learning and sklearn(KNN , decision Tree , Naive Bayes , Random forest , Logistic regression) aproache and for each algorithm I check the confusion_matrix ,F1_ score , Accuracy score  , precision_score , recall_score\n"
   ]
  },
  {
   "cell_type": "markdown",
   "metadata": {},
   "source": [
    "importing the libraris for data preprocessing and machine learning algorithm implementations"
   ]
  },
  {
   "cell_type": "code",
   "execution_count": 66,
   "metadata": {},
   "outputs": [],
   "source": [
    "import pandas as pd\n",
    "import numpy as np\n",
    "import matplotlib.pyplot as plt\n",
    "import keras\n",
    "from keras import layers\n",
    "from keras.models import Sequential\n",
    "from keras.layers import Dense , Activation\n",
    "from keras.preprocessing.text import Tokenizer, one_hot\n",
    "from keras.preprocessing.sequence import pad_sequences\n",
    "from  collections import Counter\n",
    "import sklearn\n",
    "from sklearn.model_selection import train_test_split\n",
    "from sklearn.metrics import classification_report, accuracy_score, confusion_matrix\n",
    "from sklearn.linear_model import LogisticRegression\n",
    "from sklearn.feature_extraction.text import CountVectorizer\n",
    "from sklearn import metrics\n",
    "import seaborn as sns"
   ]
  },
  {
   "cell_type": "code",
   "execution_count": 67,
   "metadata": {},
   "outputs": [],
   "source": [
    "#read the data set\n",
    "df = pd.read_csv('musk_csv.csv')"
   ]
  },
  {
   "cell_type": "code",
   "execution_count": 68,
   "metadata": {},
   "outputs": [
    {
     "data": {
      "text/html": [
       "<div>\n",
       "<style scoped>\n",
       "    .dataframe tbody tr th:only-of-type {\n",
       "        vertical-align: middle;\n",
       "    }\n",
       "\n",
       "    .dataframe tbody tr th {\n",
       "        vertical-align: top;\n",
       "    }\n",
       "\n",
       "    .dataframe thead th {\n",
       "        text-align: right;\n",
       "    }\n",
       "</style>\n",
       "<table border=\"1\" class=\"dataframe\">\n",
       "  <thead>\n",
       "    <tr style=\"text-align: right;\">\n",
       "      <th></th>\n",
       "      <th>ID</th>\n",
       "      <th>molecule_name</th>\n",
       "      <th>conformation_name</th>\n",
       "      <th>f1</th>\n",
       "      <th>f2</th>\n",
       "      <th>f3</th>\n",
       "      <th>f4</th>\n",
       "      <th>f5</th>\n",
       "      <th>f6</th>\n",
       "      <th>f7</th>\n",
       "      <th>...</th>\n",
       "      <th>f158</th>\n",
       "      <th>f159</th>\n",
       "      <th>f160</th>\n",
       "      <th>f161</th>\n",
       "      <th>f162</th>\n",
       "      <th>f163</th>\n",
       "      <th>f164</th>\n",
       "      <th>f165</th>\n",
       "      <th>f166</th>\n",
       "      <th>class</th>\n",
       "    </tr>\n",
       "  </thead>\n",
       "  <tbody>\n",
       "    <tr>\n",
       "      <th>0</th>\n",
       "      <td>1</td>\n",
       "      <td>MUSK-211</td>\n",
       "      <td>211_1+1</td>\n",
       "      <td>46</td>\n",
       "      <td>-108</td>\n",
       "      <td>-60</td>\n",
       "      <td>-69</td>\n",
       "      <td>-117</td>\n",
       "      <td>49</td>\n",
       "      <td>38</td>\n",
       "      <td>...</td>\n",
       "      <td>-308</td>\n",
       "      <td>52</td>\n",
       "      <td>-7</td>\n",
       "      <td>39</td>\n",
       "      <td>126</td>\n",
       "      <td>156</td>\n",
       "      <td>-50</td>\n",
       "      <td>-112</td>\n",
       "      <td>96</td>\n",
       "      <td>1</td>\n",
       "    </tr>\n",
       "    <tr>\n",
       "      <th>1</th>\n",
       "      <td>2</td>\n",
       "      <td>MUSK-211</td>\n",
       "      <td>211_1+10</td>\n",
       "      <td>41</td>\n",
       "      <td>-188</td>\n",
       "      <td>-145</td>\n",
       "      <td>22</td>\n",
       "      <td>-117</td>\n",
       "      <td>-6</td>\n",
       "      <td>57</td>\n",
       "      <td>...</td>\n",
       "      <td>-59</td>\n",
       "      <td>-2</td>\n",
       "      <td>52</td>\n",
       "      <td>103</td>\n",
       "      <td>136</td>\n",
       "      <td>169</td>\n",
       "      <td>-61</td>\n",
       "      <td>-136</td>\n",
       "      <td>79</td>\n",
       "      <td>1</td>\n",
       "    </tr>\n",
       "    <tr>\n",
       "      <th>2</th>\n",
       "      <td>3</td>\n",
       "      <td>MUSK-211</td>\n",
       "      <td>211_1+11</td>\n",
       "      <td>46</td>\n",
       "      <td>-194</td>\n",
       "      <td>-145</td>\n",
       "      <td>28</td>\n",
       "      <td>-117</td>\n",
       "      <td>73</td>\n",
       "      <td>57</td>\n",
       "      <td>...</td>\n",
       "      <td>-134</td>\n",
       "      <td>-154</td>\n",
       "      <td>57</td>\n",
       "      <td>143</td>\n",
       "      <td>142</td>\n",
       "      <td>165</td>\n",
       "      <td>-67</td>\n",
       "      <td>-145</td>\n",
       "      <td>39</td>\n",
       "      <td>1</td>\n",
       "    </tr>\n",
       "    <tr>\n",
       "      <th>3</th>\n",
       "      <td>4</td>\n",
       "      <td>MUSK-211</td>\n",
       "      <td>211_1+12</td>\n",
       "      <td>41</td>\n",
       "      <td>-188</td>\n",
       "      <td>-145</td>\n",
       "      <td>22</td>\n",
       "      <td>-117</td>\n",
       "      <td>-7</td>\n",
       "      <td>57</td>\n",
       "      <td>...</td>\n",
       "      <td>-60</td>\n",
       "      <td>-4</td>\n",
       "      <td>52</td>\n",
       "      <td>104</td>\n",
       "      <td>136</td>\n",
       "      <td>168</td>\n",
       "      <td>-60</td>\n",
       "      <td>-135</td>\n",
       "      <td>80</td>\n",
       "      <td>1</td>\n",
       "    </tr>\n",
       "    <tr>\n",
       "      <th>4</th>\n",
       "      <td>5</td>\n",
       "      <td>MUSK-211</td>\n",
       "      <td>211_1+13</td>\n",
       "      <td>41</td>\n",
       "      <td>-188</td>\n",
       "      <td>-145</td>\n",
       "      <td>22</td>\n",
       "      <td>-117</td>\n",
       "      <td>-7</td>\n",
       "      <td>57</td>\n",
       "      <td>...</td>\n",
       "      <td>-60</td>\n",
       "      <td>-4</td>\n",
       "      <td>52</td>\n",
       "      <td>104</td>\n",
       "      <td>137</td>\n",
       "      <td>168</td>\n",
       "      <td>-60</td>\n",
       "      <td>-135</td>\n",
       "      <td>80</td>\n",
       "      <td>1</td>\n",
       "    </tr>\n",
       "  </tbody>\n",
       "</table>\n",
       "<p>5 rows × 170 columns</p>\n",
       "</div>"
      ],
      "text/plain": [
       "   ID molecule_name conformation_name  f1   f2   f3  f4   f5  f6  f7  ...  \\\n",
       "0   1      MUSK-211           211_1+1  46 -108  -60 -69 -117  49  38  ...   \n",
       "1   2      MUSK-211          211_1+10  41 -188 -145  22 -117  -6  57  ...   \n",
       "2   3      MUSK-211          211_1+11  46 -194 -145  28 -117  73  57  ...   \n",
       "3   4      MUSK-211          211_1+12  41 -188 -145  22 -117  -7  57  ...   \n",
       "4   5      MUSK-211          211_1+13  41 -188 -145  22 -117  -7  57  ...   \n",
       "\n",
       "   f158  f159  f160  f161  f162  f163  f164  f165  f166  class  \n",
       "0  -308    52    -7    39   126   156   -50  -112    96      1  \n",
       "1   -59    -2    52   103   136   169   -61  -136    79      1  \n",
       "2  -134  -154    57   143   142   165   -67  -145    39      1  \n",
       "3   -60    -4    52   104   136   168   -60  -135    80      1  \n",
       "4   -60    -4    52   104   137   168   -60  -135    80      1  \n",
       "\n",
       "[5 rows x 170 columns]"
      ]
     },
     "execution_count": 68,
     "metadata": {},
     "output_type": "execute_result"
    }
   ],
   "source": [
    "df.head()"
   ]
  },
  {
   "cell_type": "markdown",
   "metadata": {},
   "source": [
    "checking the information about the data set , that how many rows ans how many columns have \n",
    "and what are the data types of each columns"
   ]
  },
  {
   "cell_type": "code",
   "execution_count": 74,
   "metadata": {},
   "outputs": [
    {
     "name": "stdout",
     "output_type": "stream",
     "text": [
      "<class 'pandas.core.frame.DataFrame'>\n",
      "RangeIndex: 6598 entries, 0 to 6597\n",
      "Columns: 170 entries, ID to class\n",
      "dtypes: int64(168), object(2)\n",
      "memory usage: 8.6+ MB\n"
     ]
    }
   ],
   "source": [
    "df.info()"
   ]
  },
  {
   "cell_type": "markdown",
   "metadata": {},
   "source": [
    "statistical describtion of data which have numeric data types"
   ]
  },
  {
   "cell_type": "code",
   "execution_count": 77,
   "metadata": {},
   "outputs": [
    {
     "data": {
      "text/html": [
       "<div>\n",
       "<style scoped>\n",
       "    .dataframe tbody tr th:only-of-type {\n",
       "        vertical-align: middle;\n",
       "    }\n",
       "\n",
       "    .dataframe tbody tr th {\n",
       "        vertical-align: top;\n",
       "    }\n",
       "\n",
       "    .dataframe thead th {\n",
       "        text-align: right;\n",
       "    }\n",
       "</style>\n",
       "<table border=\"1\" class=\"dataframe\">\n",
       "  <thead>\n",
       "    <tr style=\"text-align: right;\">\n",
       "      <th></th>\n",
       "      <th>ID</th>\n",
       "      <th>f1</th>\n",
       "      <th>f2</th>\n",
       "      <th>f3</th>\n",
       "      <th>f4</th>\n",
       "      <th>f5</th>\n",
       "      <th>f6</th>\n",
       "      <th>f7</th>\n",
       "      <th>f8</th>\n",
       "      <th>f9</th>\n",
       "      <th>...</th>\n",
       "      <th>f158</th>\n",
       "      <th>f159</th>\n",
       "      <th>f160</th>\n",
       "      <th>f161</th>\n",
       "      <th>f162</th>\n",
       "      <th>f163</th>\n",
       "      <th>f164</th>\n",
       "      <th>f165</th>\n",
       "      <th>f166</th>\n",
       "      <th>class</th>\n",
       "    </tr>\n",
       "  </thead>\n",
       "  <tbody>\n",
       "    <tr>\n",
       "      <th>count</th>\n",
       "      <td>6598.00000</td>\n",
       "      <td>6598.000000</td>\n",
       "      <td>6598.000000</td>\n",
       "      <td>6598.000000</td>\n",
       "      <td>6598.000000</td>\n",
       "      <td>6598.000000</td>\n",
       "      <td>6598.000000</td>\n",
       "      <td>6598.000000</td>\n",
       "      <td>6598.000000</td>\n",
       "      <td>6598.000000</td>\n",
       "      <td>...</td>\n",
       "      <td>6598.000000</td>\n",
       "      <td>6598.000000</td>\n",
       "      <td>6598.000000</td>\n",
       "      <td>6598.000000</td>\n",
       "      <td>6598.000000</td>\n",
       "      <td>6598.000000</td>\n",
       "      <td>6598.000000</td>\n",
       "      <td>6598.000000</td>\n",
       "      <td>6598.000000</td>\n",
       "      <td>6598.000000</td>\n",
       "    </tr>\n",
       "    <tr>\n",
       "      <th>mean</th>\n",
       "      <td>3299.50000</td>\n",
       "      <td>58.945135</td>\n",
       "      <td>-119.128524</td>\n",
       "      <td>-73.146560</td>\n",
       "      <td>-0.628372</td>\n",
       "      <td>-103.533495</td>\n",
       "      <td>18.359806</td>\n",
       "      <td>-14.108821</td>\n",
       "      <td>-1.858290</td>\n",
       "      <td>-86.003031</td>\n",
       "      <td>...</td>\n",
       "      <td>-184.798272</td>\n",
       "      <td>-75.795696</td>\n",
       "      <td>-26.073204</td>\n",
       "      <td>64.616702</td>\n",
       "      <td>112.037739</td>\n",
       "      <td>201.760230</td>\n",
       "      <td>-47.488330</td>\n",
       "      <td>-150.259927</td>\n",
       "      <td>41.770233</td>\n",
       "      <td>0.154138</td>\n",
       "    </tr>\n",
       "    <tr>\n",
       "      <th>std</th>\n",
       "      <td>1904.82287</td>\n",
       "      <td>53.249007</td>\n",
       "      <td>90.813375</td>\n",
       "      <td>67.956235</td>\n",
       "      <td>80.444617</td>\n",
       "      <td>64.387559</td>\n",
       "      <td>80.593655</td>\n",
       "      <td>115.315673</td>\n",
       "      <td>90.372537</td>\n",
       "      <td>108.326676</td>\n",
       "      <td>...</td>\n",
       "      <td>107.819514</td>\n",
       "      <td>127.861271</td>\n",
       "      <td>69.727964</td>\n",
       "      <td>100.861935</td>\n",
       "      <td>72.835040</td>\n",
       "      <td>59.526751</td>\n",
       "      <td>55.069365</td>\n",
       "      <td>76.019023</td>\n",
       "      <td>94.116085</td>\n",
       "      <td>0.361108</td>\n",
       "    </tr>\n",
       "    <tr>\n",
       "      <th>min</th>\n",
       "      <td>1.00000</td>\n",
       "      <td>-31.000000</td>\n",
       "      <td>-199.000000</td>\n",
       "      <td>-167.000000</td>\n",
       "      <td>-114.000000</td>\n",
       "      <td>-118.000000</td>\n",
       "      <td>-183.000000</td>\n",
       "      <td>-171.000000</td>\n",
       "      <td>-225.000000</td>\n",
       "      <td>-245.000000</td>\n",
       "      <td>...</td>\n",
       "      <td>-328.000000</td>\n",
       "      <td>-219.000000</td>\n",
       "      <td>-136.000000</td>\n",
       "      <td>-120.000000</td>\n",
       "      <td>-69.000000</td>\n",
       "      <td>73.000000</td>\n",
       "      <td>-289.000000</td>\n",
       "      <td>-428.000000</td>\n",
       "      <td>-471.000000</td>\n",
       "      <td>0.000000</td>\n",
       "    </tr>\n",
       "    <tr>\n",
       "      <th>25%</th>\n",
       "      <td>1650.25000</td>\n",
       "      <td>37.000000</td>\n",
       "      <td>-193.000000</td>\n",
       "      <td>-137.000000</td>\n",
       "      <td>-70.000000</td>\n",
       "      <td>-117.000000</td>\n",
       "      <td>-28.000000</td>\n",
       "      <td>-159.000000</td>\n",
       "      <td>-85.000000</td>\n",
       "      <td>-217.000000</td>\n",
       "      <td>...</td>\n",
       "      <td>-272.000000</td>\n",
       "      <td>-205.000000</td>\n",
       "      <td>-70.000000</td>\n",
       "      <td>-18.000000</td>\n",
       "      <td>71.000000</td>\n",
       "      <td>166.000000</td>\n",
       "      <td>-68.000000</td>\n",
       "      <td>-179.000000</td>\n",
       "      <td>-9.000000</td>\n",
       "      <td>0.000000</td>\n",
       "    </tr>\n",
       "    <tr>\n",
       "      <th>50%</th>\n",
       "      <td>3299.50000</td>\n",
       "      <td>44.000000</td>\n",
       "      <td>-149.000000</td>\n",
       "      <td>-99.000000</td>\n",
       "      <td>-25.000000</td>\n",
       "      <td>-117.000000</td>\n",
       "      <td>33.000000</td>\n",
       "      <td>27.000000</td>\n",
       "      <td>19.000000</td>\n",
       "      <td>-40.000000</td>\n",
       "      <td>...</td>\n",
       "      <td>-234.000000</td>\n",
       "      <td>-131.000000</td>\n",
       "      <td>-21.000000</td>\n",
       "      <td>61.500000</td>\n",
       "      <td>107.000000</td>\n",
       "      <td>191.000000</td>\n",
       "      <td>-60.000000</td>\n",
       "      <td>-150.000000</td>\n",
       "      <td>27.000000</td>\n",
       "      <td>0.000000</td>\n",
       "    </tr>\n",
       "    <tr>\n",
       "      <th>75%</th>\n",
       "      <td>4948.75000</td>\n",
       "      <td>53.000000</td>\n",
       "      <td>-95.000000</td>\n",
       "      <td>-19.000000</td>\n",
       "      <td>42.000000</td>\n",
       "      <td>-116.000000</td>\n",
       "      <td>74.000000</td>\n",
       "      <td>57.000000</td>\n",
       "      <td>61.000000</td>\n",
       "      <td>-21.000000</td>\n",
       "      <td>...</td>\n",
       "      <td>-80.000000</td>\n",
       "      <td>52.000000</td>\n",
       "      <td>9.000000</td>\n",
       "      <td>149.000000</td>\n",
       "      <td>129.000000</td>\n",
       "      <td>215.000000</td>\n",
       "      <td>-45.000000</td>\n",
       "      <td>-120.000000</td>\n",
       "      <td>119.000000</td>\n",
       "      <td>0.000000</td>\n",
       "    </tr>\n",
       "    <tr>\n",
       "      <th>max</th>\n",
       "      <td>6598.00000</td>\n",
       "      <td>292.000000</td>\n",
       "      <td>95.000000</td>\n",
       "      <td>81.000000</td>\n",
       "      <td>161.000000</td>\n",
       "      <td>325.000000</td>\n",
       "      <td>200.000000</td>\n",
       "      <td>220.000000</td>\n",
       "      <td>320.000000</td>\n",
       "      <td>147.000000</td>\n",
       "      <td>...</td>\n",
       "      <td>94.000000</td>\n",
       "      <td>179.000000</td>\n",
       "      <td>192.000000</td>\n",
       "      <td>411.000000</td>\n",
       "      <td>355.000000</td>\n",
       "      <td>625.000000</td>\n",
       "      <td>295.000000</td>\n",
       "      <td>168.000000</td>\n",
       "      <td>367.000000</td>\n",
       "      <td>1.000000</td>\n",
       "    </tr>\n",
       "  </tbody>\n",
       "</table>\n",
       "<p>8 rows × 168 columns</p>\n",
       "</div>"
      ],
      "text/plain": [
       "               ID           f1           f2           f3           f4  \\\n",
       "count  6598.00000  6598.000000  6598.000000  6598.000000  6598.000000   \n",
       "mean   3299.50000    58.945135  -119.128524   -73.146560    -0.628372   \n",
       "std    1904.82287    53.249007    90.813375    67.956235    80.444617   \n",
       "min       1.00000   -31.000000  -199.000000  -167.000000  -114.000000   \n",
       "25%    1650.25000    37.000000  -193.000000  -137.000000   -70.000000   \n",
       "50%    3299.50000    44.000000  -149.000000   -99.000000   -25.000000   \n",
       "75%    4948.75000    53.000000   -95.000000   -19.000000    42.000000   \n",
       "max    6598.00000   292.000000    95.000000    81.000000   161.000000   \n",
       "\n",
       "                f5           f6           f7           f8           f9  ...  \\\n",
       "count  6598.000000  6598.000000  6598.000000  6598.000000  6598.000000  ...   \n",
       "mean   -103.533495    18.359806   -14.108821    -1.858290   -86.003031  ...   \n",
       "std      64.387559    80.593655   115.315673    90.372537   108.326676  ...   \n",
       "min    -118.000000  -183.000000  -171.000000  -225.000000  -245.000000  ...   \n",
       "25%    -117.000000   -28.000000  -159.000000   -85.000000  -217.000000  ...   \n",
       "50%    -117.000000    33.000000    27.000000    19.000000   -40.000000  ...   \n",
       "75%    -116.000000    74.000000    57.000000    61.000000   -21.000000  ...   \n",
       "max     325.000000   200.000000   220.000000   320.000000   147.000000  ...   \n",
       "\n",
       "              f158         f159         f160         f161         f162  \\\n",
       "count  6598.000000  6598.000000  6598.000000  6598.000000  6598.000000   \n",
       "mean   -184.798272   -75.795696   -26.073204    64.616702   112.037739   \n",
       "std     107.819514   127.861271    69.727964   100.861935    72.835040   \n",
       "min    -328.000000  -219.000000  -136.000000  -120.000000   -69.000000   \n",
       "25%    -272.000000  -205.000000   -70.000000   -18.000000    71.000000   \n",
       "50%    -234.000000  -131.000000   -21.000000    61.500000   107.000000   \n",
       "75%     -80.000000    52.000000     9.000000   149.000000   129.000000   \n",
       "max      94.000000   179.000000   192.000000   411.000000   355.000000   \n",
       "\n",
       "              f163         f164         f165         f166        class  \n",
       "count  6598.000000  6598.000000  6598.000000  6598.000000  6598.000000  \n",
       "mean    201.760230   -47.488330  -150.259927    41.770233     0.154138  \n",
       "std      59.526751    55.069365    76.019023    94.116085     0.361108  \n",
       "min      73.000000  -289.000000  -428.000000  -471.000000     0.000000  \n",
       "25%     166.000000   -68.000000  -179.000000    -9.000000     0.000000  \n",
       "50%     191.000000   -60.000000  -150.000000    27.000000     0.000000  \n",
       "75%     215.000000   -45.000000  -120.000000   119.000000     0.000000  \n",
       "max     625.000000   295.000000   168.000000   367.000000     1.000000  \n",
       "\n",
       "[8 rows x 168 columns]"
      ]
     },
     "execution_count": 77,
     "metadata": {},
     "output_type": "execute_result"
    }
   ],
   "source": [
    "df.describe()"
   ]
  },
  {
   "cell_type": "markdown",
   "metadata": {},
   "source": [
    "describtion of data which are in string format"
   ]
  },
  {
   "cell_type": "code",
   "execution_count": 78,
   "metadata": {},
   "outputs": [
    {
     "data": {
      "text/html": [
       "<div>\n",
       "<style scoped>\n",
       "    .dataframe tbody tr th:only-of-type {\n",
       "        vertical-align: middle;\n",
       "    }\n",
       "\n",
       "    .dataframe tbody tr th {\n",
       "        vertical-align: top;\n",
       "    }\n",
       "\n",
       "    .dataframe thead th {\n",
       "        text-align: right;\n",
       "    }\n",
       "</style>\n",
       "<table border=\"1\" class=\"dataframe\">\n",
       "  <thead>\n",
       "    <tr style=\"text-align: right;\">\n",
       "      <th></th>\n",
       "      <th>molecule_name</th>\n",
       "      <th>conformation_name</th>\n",
       "    </tr>\n",
       "  </thead>\n",
       "  <tbody>\n",
       "    <tr>\n",
       "      <th>count</th>\n",
       "      <td>6598</td>\n",
       "      <td>6598</td>\n",
       "    </tr>\n",
       "    <tr>\n",
       "      <th>unique</th>\n",
       "      <td>102</td>\n",
       "      <td>6598</td>\n",
       "    </tr>\n",
       "    <tr>\n",
       "      <th>top</th>\n",
       "      <td>NON-MUSK-j146</td>\n",
       "      <td>252_1+172</td>\n",
       "    </tr>\n",
       "    <tr>\n",
       "      <th>freq</th>\n",
       "      <td>1044</td>\n",
       "      <td>1</td>\n",
       "    </tr>\n",
       "  </tbody>\n",
       "</table>\n",
       "</div>"
      ],
      "text/plain": [
       "        molecule_name conformation_name\n",
       "count            6598              6598\n",
       "unique            102              6598\n",
       "top     NON-MUSK-j146         252_1+172\n",
       "freq             1044                 1"
      ]
     },
     "execution_count": 78,
     "metadata": {},
     "output_type": "execute_result"
    }
   ],
   "source": [
    "df.describe(include='object')"
   ]
  },
  {
   "cell_type": "markdown",
   "metadata": {},
   "source": [
    "check for the null values"
   ]
  },
  {
   "cell_type": "code",
   "execution_count": 79,
   "metadata": {},
   "outputs": [
    {
     "data": {
      "text/plain": [
       "ID                   0\n",
       "molecule_name        0\n",
       "conformation_name    0\n",
       "f1                   0\n",
       "f2                   0\n",
       "f3                   0\n",
       "f4                   0\n",
       "f5                   0\n",
       "f6                   0\n",
       "f7                   0\n",
       "f8                   0\n",
       "f9                   0\n",
       "f10                  0\n",
       "f11                  0\n",
       "f12                  0\n",
       "f13                  0\n",
       "f14                  0\n",
       "f15                  0\n",
       "f16                  0\n",
       "f17                  0\n",
       "f18                  0\n",
       "f19                  0\n",
       "f20                  0\n",
       "f21                  0\n",
       "f22                  0\n",
       "f23                  0\n",
       "f24                  0\n",
       "f25                  0\n",
       "f26                  0\n",
       "f27                  0\n",
       "                    ..\n",
       "f138                 0\n",
       "f139                 0\n",
       "f140                 0\n",
       "f141                 0\n",
       "f142                 0\n",
       "f143                 0\n",
       "f144                 0\n",
       "f145                 0\n",
       "f146                 0\n",
       "f147                 0\n",
       "f148                 0\n",
       "f149                 0\n",
       "f150                 0\n",
       "f151                 0\n",
       "f152                 0\n",
       "f153                 0\n",
       "f154                 0\n",
       "f155                 0\n",
       "f156                 0\n",
       "f157                 0\n",
       "f158                 0\n",
       "f159                 0\n",
       "f160                 0\n",
       "f161                 0\n",
       "f162                 0\n",
       "f163                 0\n",
       "f164                 0\n",
       "f165                 0\n",
       "f166                 0\n",
       "class                0\n",
       "Length: 170, dtype: int64"
      ]
     },
     "execution_count": 79,
     "metadata": {},
     "output_type": "execute_result"
    }
   ],
   "source": [
    "df.isnull().sum()"
   ]
  },
  {
   "cell_type": "markdown",
   "metadata": {},
   "source": [
    "finding the correlation of each attributes with the classification target so that the correlation value are in the range of \n",
    "-1 to 1"
   ]
  },
  {
   "cell_type": "code",
   "execution_count": 80,
   "metadata": {},
   "outputs": [
    {
     "data": {
      "text/plain": [
       "class    1.000000\n",
       "f26      0.163585\n",
       "f118     0.154010\n",
       "f9       0.147509\n",
       "f108     0.147264\n",
       "f77      0.145602\n",
       "f86      0.143419\n",
       "f48      0.138190\n",
       "f95      0.137931\n",
       "f53      0.135453\n",
       "f139     0.129267\n",
       "f119     0.127419\n",
       "f52      0.125470\n",
       "f81      0.123262\n",
       "f114     0.121631\n",
       "f113     0.118256\n",
       "f17      0.117892\n",
       "f7       0.113093\n",
       "f22      0.107039\n",
       "f82      0.104050\n",
       "f23      0.103916\n",
       "f112     0.098047\n",
       "f160     0.097957\n",
       "f56      0.091634\n",
       "f98      0.084038\n",
       "f21      0.082980\n",
       "f34      0.082844\n",
       "f57      0.082780\n",
       "f127     0.078154\n",
       "f128     0.069481\n",
       "           ...   \n",
       "f19     -0.175573\n",
       "f54     -0.179462\n",
       "f125    -0.179467\n",
       "f11     -0.184796\n",
       "f103    -0.190685\n",
       "f46     -0.191578\n",
       "f106    -0.193720\n",
       "f80     -0.194174\n",
       "f104    -0.195028\n",
       "f8      -0.201554\n",
       "f91     -0.205506\n",
       "f44     -0.206215\n",
       "f110    -0.206606\n",
       "f74     -0.207552\n",
       "f105    -0.208192\n",
       "f111    -0.208512\n",
       "f15     -0.210261\n",
       "f45     -0.210292\n",
       "f78     -0.210497\n",
       "f135    -0.210645\n",
       "f49     -0.210816\n",
       "f109    -0.211642\n",
       "f163    -0.217481\n",
       "f14     -0.218065\n",
       "f96     -0.220994\n",
       "f124    -0.224108\n",
       "f126    -0.261096\n",
       "f36     -0.264802\n",
       "f132    -0.270949\n",
       "ID      -0.625410\n",
       "Name: class, Length: 168, dtype: float64"
      ]
     },
     "execution_count": 80,
     "metadata": {},
     "output_type": "execute_result"
    }
   ],
   "source": [
    "corr_matrix = df.corr()\n",
    "corr_matrix['class'].sort_values(ascending=False)"
   ]
  },
  {
   "cell_type": "markdown",
   "metadata": {},
   "source": [
    "specify the feature(x whihc are independant) and target(y which is dependent on values of x) variable "
   ]
  },
  {
   "cell_type": "code",
   "execution_count": 81,
   "metadata": {},
   "outputs": [],
   "source": [
    "X = df.iloc[: , :-1]\n",
    "X =X.iloc[: , 3:]\n",
    "y = df['class']"
   ]
  },
  {
   "cell_type": "code",
   "execution_count": 82,
   "metadata": {},
   "outputs": [
    {
     "data": {
      "text/html": [
       "<div>\n",
       "<style scoped>\n",
       "    .dataframe tbody tr th:only-of-type {\n",
       "        vertical-align: middle;\n",
       "    }\n",
       "\n",
       "    .dataframe tbody tr th {\n",
       "        vertical-align: top;\n",
       "    }\n",
       "\n",
       "    .dataframe thead th {\n",
       "        text-align: right;\n",
       "    }\n",
       "</style>\n",
       "<table border=\"1\" class=\"dataframe\">\n",
       "  <thead>\n",
       "    <tr style=\"text-align: right;\">\n",
       "      <th></th>\n",
       "      <th>f1</th>\n",
       "      <th>f2</th>\n",
       "      <th>f3</th>\n",
       "      <th>f4</th>\n",
       "      <th>f5</th>\n",
       "      <th>f6</th>\n",
       "      <th>f7</th>\n",
       "      <th>f8</th>\n",
       "      <th>f9</th>\n",
       "      <th>f10</th>\n",
       "      <th>...</th>\n",
       "      <th>f157</th>\n",
       "      <th>f158</th>\n",
       "      <th>f159</th>\n",
       "      <th>f160</th>\n",
       "      <th>f161</th>\n",
       "      <th>f162</th>\n",
       "      <th>f163</th>\n",
       "      <th>f164</th>\n",
       "      <th>f165</th>\n",
       "      <th>f166</th>\n",
       "    </tr>\n",
       "  </thead>\n",
       "  <tbody>\n",
       "    <tr>\n",
       "      <th>0</th>\n",
       "      <td>46</td>\n",
       "      <td>-108</td>\n",
       "      <td>-60</td>\n",
       "      <td>-69</td>\n",
       "      <td>-117</td>\n",
       "      <td>49</td>\n",
       "      <td>38</td>\n",
       "      <td>-161</td>\n",
       "      <td>-8</td>\n",
       "      <td>5</td>\n",
       "      <td>...</td>\n",
       "      <td>-244</td>\n",
       "      <td>-308</td>\n",
       "      <td>52</td>\n",
       "      <td>-7</td>\n",
       "      <td>39</td>\n",
       "      <td>126</td>\n",
       "      <td>156</td>\n",
       "      <td>-50</td>\n",
       "      <td>-112</td>\n",
       "      <td>96</td>\n",
       "    </tr>\n",
       "    <tr>\n",
       "      <th>1</th>\n",
       "      <td>41</td>\n",
       "      <td>-188</td>\n",
       "      <td>-145</td>\n",
       "      <td>22</td>\n",
       "      <td>-117</td>\n",
       "      <td>-6</td>\n",
       "      <td>57</td>\n",
       "      <td>-171</td>\n",
       "      <td>-39</td>\n",
       "      <td>-100</td>\n",
       "      <td>...</td>\n",
       "      <td>-235</td>\n",
       "      <td>-59</td>\n",
       "      <td>-2</td>\n",
       "      <td>52</td>\n",
       "      <td>103</td>\n",
       "      <td>136</td>\n",
       "      <td>169</td>\n",
       "      <td>-61</td>\n",
       "      <td>-136</td>\n",
       "      <td>79</td>\n",
       "    </tr>\n",
       "    <tr>\n",
       "      <th>2</th>\n",
       "      <td>46</td>\n",
       "      <td>-194</td>\n",
       "      <td>-145</td>\n",
       "      <td>28</td>\n",
       "      <td>-117</td>\n",
       "      <td>73</td>\n",
       "      <td>57</td>\n",
       "      <td>-168</td>\n",
       "      <td>-39</td>\n",
       "      <td>-22</td>\n",
       "      <td>...</td>\n",
       "      <td>-238</td>\n",
       "      <td>-134</td>\n",
       "      <td>-154</td>\n",
       "      <td>57</td>\n",
       "      <td>143</td>\n",
       "      <td>142</td>\n",
       "      <td>165</td>\n",
       "      <td>-67</td>\n",
       "      <td>-145</td>\n",
       "      <td>39</td>\n",
       "    </tr>\n",
       "    <tr>\n",
       "      <th>3</th>\n",
       "      <td>41</td>\n",
       "      <td>-188</td>\n",
       "      <td>-145</td>\n",
       "      <td>22</td>\n",
       "      <td>-117</td>\n",
       "      <td>-7</td>\n",
       "      <td>57</td>\n",
       "      <td>-170</td>\n",
       "      <td>-39</td>\n",
       "      <td>-99</td>\n",
       "      <td>...</td>\n",
       "      <td>-236</td>\n",
       "      <td>-60</td>\n",
       "      <td>-4</td>\n",
       "      <td>52</td>\n",
       "      <td>104</td>\n",
       "      <td>136</td>\n",
       "      <td>168</td>\n",
       "      <td>-60</td>\n",
       "      <td>-135</td>\n",
       "      <td>80</td>\n",
       "    </tr>\n",
       "    <tr>\n",
       "      <th>4</th>\n",
       "      <td>41</td>\n",
       "      <td>-188</td>\n",
       "      <td>-145</td>\n",
       "      <td>22</td>\n",
       "      <td>-117</td>\n",
       "      <td>-7</td>\n",
       "      <td>57</td>\n",
       "      <td>-170</td>\n",
       "      <td>-39</td>\n",
       "      <td>-99</td>\n",
       "      <td>...</td>\n",
       "      <td>-236</td>\n",
       "      <td>-60</td>\n",
       "      <td>-4</td>\n",
       "      <td>52</td>\n",
       "      <td>104</td>\n",
       "      <td>137</td>\n",
       "      <td>168</td>\n",
       "      <td>-60</td>\n",
       "      <td>-135</td>\n",
       "      <td>80</td>\n",
       "    </tr>\n",
       "  </tbody>\n",
       "</table>\n",
       "<p>5 rows × 166 columns</p>\n",
       "</div>"
      ],
      "text/plain": [
       "   f1   f2   f3  f4   f5  f6  f7   f8  f9  f10  ...  f157  f158  f159  f160  \\\n",
       "0  46 -108  -60 -69 -117  49  38 -161  -8    5  ...  -244  -308    52    -7   \n",
       "1  41 -188 -145  22 -117  -6  57 -171 -39 -100  ...  -235   -59    -2    52   \n",
       "2  46 -194 -145  28 -117  73  57 -168 -39  -22  ...  -238  -134  -154    57   \n",
       "3  41 -188 -145  22 -117  -7  57 -170 -39  -99  ...  -236   -60    -4    52   \n",
       "4  41 -188 -145  22 -117  -7  57 -170 -39  -99  ...  -236   -60    -4    52   \n",
       "\n",
       "   f161  f162  f163  f164  f165  f166  \n",
       "0    39   126   156   -50  -112    96  \n",
       "1   103   136   169   -61  -136    79  \n",
       "2   143   142   165   -67  -145    39  \n",
       "3   104   136   168   -60  -135    80  \n",
       "4   104   137   168   -60  -135    80  \n",
       "\n",
       "[5 rows x 166 columns]"
      ]
     },
     "execution_count": 82,
     "metadata": {},
     "output_type": "execute_result"
    }
   ],
   "source": [
    "X.head()"
   ]
  },
  {
   "cell_type": "code",
   "execution_count": 10,
   "metadata": {},
   "outputs": [
    {
     "data": {
      "text/plain": [
       "0    1\n",
       "1    1\n",
       "2    1\n",
       "3    1\n",
       "4    1\n",
       "Name: class, dtype: int64"
      ]
     },
     "execution_count": 10,
     "metadata": {},
     "output_type": "execute_result"
    }
   ],
   "source": [
    "y.head()"
   ]
  },
  {
   "cell_type": "code",
   "execution_count": 11,
   "metadata": {},
   "outputs": [
    {
     "data": {
      "text/plain": [
       "Counter({1: 1017, 0: 5581})"
      ]
     },
     "execution_count": 11,
     "metadata": {},
     "output_type": "execute_result"
    }
   ],
   "source": [
    "Counter(y)"
   ]
  },
  {
   "cell_type": "markdown",
   "metadata": {},
   "source": [
    "using sklearn we can split the data into traning and test part . that from over all data 20% are for testing and 80% are for \n",
    "traning.\n",
    "if we check the data it is not a normal(standard) data so for the purpose of gething accurate result we have to standardize data using standard scaler or any other methods . In hereI use Standad Scaler"
   ]
  },
  {
   "cell_type": "code",
   "execution_count": 85,
   "metadata": {},
   "outputs": [
    {
     "name": "stderr",
     "output_type": "stream",
     "text": [
      "C:\\Users\\MORADI\\Anaconda3\\lib\\site-packages\\sklearn\\preprocessing\\data.py:645: DataConversionWarning: Data with input dtype int64 were all converted to float64 by StandardScaler.\n",
      "  return self.partial_fit(X, y)\n",
      "C:\\Users\\MORADI\\Anaconda3\\lib\\site-packages\\sklearn\\base.py:464: DataConversionWarning: Data with input dtype int64 were all converted to float64 by StandardScaler.\n",
      "  return self.fit(X, **fit_params).transform(X)\n",
      "C:\\Users\\MORADI\\Anaconda3\\lib\\site-packages\\ipykernel_launcher.py:5: DataConversionWarning: Data with input dtype int64 were all converted to float64 by StandardScaler.\n",
      "  \"\"\"\n"
     ]
    }
   ],
   "source": [
    "X_train, X_test, y_train, y_test = train_test_split(X, y, test_size=0.2, random_state=40)\n",
    "from sklearn.preprocessing import StandardScaler\n",
    "sc = StandardScaler()\n",
    "X_train = sc.fit_transform(X_train)\n",
    "X_test = sc.transform(X_test)\n"
   ]
  },
  {
   "cell_type": "markdown",
   "metadata": {},
   "source": [
    "# implementation of LogisticRegression"
   ]
  },
  {
   "cell_type": "code",
   "execution_count": 86,
   "metadata": {},
   "outputs": [
    {
     "name": "stderr",
     "output_type": "stream",
     "text": [
      "C:\\Users\\MORADI\\Anaconda3\\lib\\site-packages\\sklearn\\linear_model\\logistic.py:433: FutureWarning: Default solver will be changed to 'lbfgs' in 0.22. Specify a solver to silence this warning.\n",
      "  FutureWarning)\n"
     ]
    },
    {
     "name": "stdout",
     "output_type": "stream",
     "text": [
      "confusion_matrix: [[1096   21]\n",
      " [  48  155]]\n",
      "F1_ score : 0.8179419525065964\n",
      "Accuracy score: 0.9477272727272728\n",
      "precision_score: 0.8806818181818182\n",
      "recall_score: 0.7635467980295566\n"
     ]
    }
   ],
   "source": [
    "classifier = LogisticRegression()\n",
    "classifier.fit(X_train, y_train)\n",
    "y_predict = classifier.predict(X_test)\n",
    "score = classifier.score(X_test, y_test)\n",
    "print(\"confusion_matrix:\",confusion_matrix(y_test , y_predict))\n",
    "print(\"F1_score :\",metrics.f1_score(y_test , y_predict))\n",
    "print(\"Accuracy score:\",metrics.accuracy_score(y_test , y_predict))\n",
    "print(\"precision_score:\",metrics.precision_score(y_test , y_predict))\n",
    "print(\"recall_score:\",metrics.recall_score(y_test , y_predict))"
   ]
  },
  {
   "cell_type": "code",
   "execution_count": 87,
   "metadata": {},
   "outputs": [
    {
     "name": "stdout",
     "output_type": "stream",
     "text": [
      "(5278, 166)\n",
      "(1320, 166)\n",
      "(5278,)\n",
      "(1320,)\n"
     ]
    }
   ],
   "source": [
    "print(X_train.shape)\n",
    "print(X_test.shape)\n",
    "print(y_train.shape)\n",
    "print(y_test.shape)"
   ]
  },
  {
   "cell_type": "markdown",
   "metadata": {},
   "source": [
    "# defining the model structure for deep learning implementation "
   ]
  },
  {
   "cell_type": "code",
   "execution_count": 89,
   "metadata": {},
   "outputs": [],
   "source": [
    "input_dim = X_train.shape[1]  # Number of features\n",
    "# input_dim\n",
    "model = Sequential()\n",
    "model.add(layers.Dense(10, input_dim=input_dim, activation='relu'))\n",
    "model.add(layers.Dense(1, activation='sigmoid'))"
   ]
  },
  {
   "cell_type": "code",
   "execution_count": 90,
   "metadata": {},
   "outputs": [
    {
     "name": "stdout",
     "output_type": "stream",
     "text": [
      "Model: \"sequential_4\"\n",
      "_________________________________________________________________\n",
      "Layer (type)                 Output Shape              Param #   \n",
      "=================================================================\n",
      "dense_7 (Dense)              (None, 10)                1670      \n",
      "_________________________________________________________________\n",
      "dense_8 (Dense)              (None, 1)                 11        \n",
      "=================================================================\n",
      "Total params: 1,681\n",
      "Trainable params: 1,681\n",
      "Non-trainable params: 0\n",
      "_________________________________________________________________\n"
     ]
    }
   ],
   "source": [
    "model.compile(loss='binary_crossentropy', \n",
    "              optimizer='adam', \n",
    "              metrics=['accuracy'])\n",
    "model.summary()"
   ]
  },
  {
   "cell_type": "markdown",
   "metadata": {},
   "source": [
    "# fiting the the deep learning algorithm "
   ]
  },
  {
   "cell_type": "code",
   "execution_count": 91,
   "metadata": {},
   "outputs": [
    {
     "name": "stdout",
     "output_type": "stream",
     "text": [
      "Train on 5278 samples, validate on 1320 samples\n",
      "Epoch 1/100\n",
      "5278/5278 [==============================] - 1s 130us/step - loss: 0.2883 - accuracy: 0.8941 - val_loss: 0.2116 - val_accuracy: 0.9174\n",
      "Epoch 2/100\n",
      "5278/5278 [==============================] - 0s 72us/step - loss: 0.1794 - accuracy: 0.9326 - val_loss: 0.1646 - val_accuracy: 0.9311\n",
      "Epoch 3/100\n",
      "5278/5278 [==============================] - 0s 68us/step - loss: 0.1392 - accuracy: 0.9441 - val_loss: 0.1300 - val_accuracy: 0.9462\n",
      "Epoch 4/100\n",
      "5278/5278 [==============================] - 0s 71us/step - loss: 0.1129 - accuracy: 0.9549 - val_loss: 0.1113 - val_accuracy: 0.9500\n",
      "Epoch 5/100\n",
      "5278/5278 [==============================] - 0s 71us/step - loss: 0.0950 - accuracy: 0.9629 - val_loss: 0.0947 - val_accuracy: 0.9591\n",
      "Epoch 6/100\n",
      "5278/5278 [==============================] - 0s 76us/step - loss: 0.0814 - accuracy: 0.9676 - val_loss: 0.0862 - val_accuracy: 0.9659\n",
      "Epoch 7/100\n",
      "5278/5278 [==============================] - 0s 75us/step - loss: 0.0721 - accuracy: 0.9723 - val_loss: 0.0765 - val_accuracy: 0.9727\n",
      "Epoch 8/100\n",
      "5278/5278 [==============================] - 0s 77us/step - loss: 0.0634 - accuracy: 0.9761 - val_loss: 0.0714 - val_accuracy: 0.9727\n",
      "Epoch 9/100\n",
      "5278/5278 [==============================] - 0s 80us/step - loss: 0.0573 - accuracy: 0.9790 - val_loss: 0.0642 - val_accuracy: 0.9735\n",
      "Epoch 10/100\n",
      "5278/5278 [==============================] - 0s 71us/step - loss: 0.0508 - accuracy: 0.9831 - val_loss: 0.0567 - val_accuracy: 0.9795\n",
      "Epoch 11/100\n",
      "5278/5278 [==============================] - 0s 76us/step - loss: 0.0455 - accuracy: 0.9848 - val_loss: 0.0575 - val_accuracy: 0.9773\n",
      "Epoch 12/100\n",
      "5278/5278 [==============================] - 0s 69us/step - loss: 0.0417 - accuracy: 0.9862 - val_loss: 0.0508 - val_accuracy: 0.9773\n",
      "Epoch 13/100\n",
      "5278/5278 [==============================] - 0s 70us/step - loss: 0.0388 - accuracy: 0.9881 - val_loss: 0.0486 - val_accuracy: 0.9811\n",
      "Epoch 14/100\n",
      "5278/5278 [==============================] - 0s 74us/step - loss: 0.0356 - accuracy: 0.9894 - val_loss: 0.0450 - val_accuracy: 0.9841\n",
      "Epoch 15/100\n",
      "5278/5278 [==============================] - 0s 70us/step - loss: 0.0322 - accuracy: 0.9905 - val_loss: 0.0404 - val_accuracy: 0.9826\n",
      "Epoch 16/100\n",
      "5278/5278 [==============================] - 0s 71us/step - loss: 0.0299 - accuracy: 0.9911 - val_loss: 0.0398 - val_accuracy: 0.9841\n",
      "Epoch 17/100\n",
      "5278/5278 [==============================] - 0s 72us/step - loss: 0.0273 - accuracy: 0.9926 - val_loss: 0.0389 - val_accuracy: 0.9871\n",
      "Epoch 18/100\n",
      "5278/5278 [==============================] - 0s 72us/step - loss: 0.0251 - accuracy: 0.9939 - val_loss: 0.0330 - val_accuracy: 0.9871\n",
      "Epoch 19/100\n",
      "5278/5278 [==============================] - 0s 73us/step - loss: 0.0221 - accuracy: 0.9953 - val_loss: 0.0336 - val_accuracy: 0.9864\n",
      "Epoch 20/100\n",
      "5278/5278 [==============================] - 0s 72us/step - loss: 0.0209 - accuracy: 0.9955 - val_loss: 0.0313 - val_accuracy: 0.9871\n",
      "Epoch 21/100\n",
      "5278/5278 [==============================] - 0s 75us/step - loss: 0.0191 - accuracy: 0.9964 - val_loss: 0.0326 - val_accuracy: 0.9879\n",
      "Epoch 22/100\n",
      "5278/5278 [==============================] - 0s 80us/step - loss: 0.0179 - accuracy: 0.9966 - val_loss: 0.0295 - val_accuracy: 0.9894\n",
      "Epoch 23/100\n",
      "5278/5278 [==============================] - 0s 73us/step - loss: 0.0159 - accuracy: 0.9972 - val_loss: 0.0280 - val_accuracy: 0.9902\n",
      "Epoch 24/100\n",
      "5278/5278 [==============================] - 0s 73us/step - loss: 0.0148 - accuracy: 0.9979 - val_loss: 0.0271 - val_accuracy: 0.9871\n",
      "Epoch 25/100\n",
      "5278/5278 [==============================] - 0s 72us/step - loss: 0.0134 - accuracy: 0.9977 - val_loss: 0.0258 - val_accuracy: 0.9909\n",
      "Epoch 26/100\n",
      "5278/5278 [==============================] - 0s 70us/step - loss: 0.0127 - accuracy: 0.9973 - val_loss: 0.0259 - val_accuracy: 0.9902\n",
      "Epoch 27/100\n",
      "5278/5278 [==============================] - 0s 76us/step - loss: 0.0115 - accuracy: 0.9989 - val_loss: 0.0239 - val_accuracy: 0.9924\n",
      "Epoch 28/100\n",
      "5278/5278 [==============================] - 0s 69us/step - loss: 0.0104 - accuracy: 0.9987 - val_loss: 0.0231 - val_accuracy: 0.9924\n",
      "Epoch 29/100\n",
      "5278/5278 [==============================] - 0s 72us/step - loss: 0.0101 - accuracy: 0.9985 - val_loss: 0.0226 - val_accuracy: 0.9917\n",
      "Epoch 30/100\n",
      "5278/5278 [==============================] - 0s 71us/step - loss: 0.0089 - accuracy: 0.9992 - val_loss: 0.0236 - val_accuracy: 0.9902\n",
      "Epoch 31/100\n",
      "5278/5278 [==============================] - 0s 70us/step - loss: 0.0079 - accuracy: 0.9994 - val_loss: 0.0226 - val_accuracy: 0.9909\n",
      "Epoch 32/100\n",
      "5278/5278 [==============================] - 0s 72us/step - loss: 0.0075 - accuracy: 0.9994 - val_loss: 0.0214 - val_accuracy: 0.9924\n",
      "Epoch 33/100\n",
      "5278/5278 [==============================] - 0s 73us/step - loss: 0.0072 - accuracy: 0.9994 - val_loss: 0.0217 - val_accuracy: 0.9909\n",
      "Epoch 34/100\n",
      "5278/5278 [==============================] - 0s 72us/step - loss: 0.0063 - accuracy: 0.9994 - val_loss: 0.0235 - val_accuracy: 0.9924\n",
      "Epoch 35/100\n",
      "5278/5278 [==============================] - ETA: 0s - loss: 0.0060 - accuracy: 1.00 - 0s 74us/step - loss: 0.0058 - accuracy: 1.0000 - val_loss: 0.0232 - val_accuracy: 0.9924\n",
      "Epoch 36/100\n",
      "5278/5278 [==============================] - 0s 83us/step - loss: 0.0055 - accuracy: 0.9994 - val_loss: 0.0249 - val_accuracy: 0.9902\n",
      "Epoch 37/100\n",
      "5278/5278 [==============================] - 0s 72us/step - loss: 0.0052 - accuracy: 0.9996 - val_loss: 0.0208 - val_accuracy: 0.9939\n",
      "Epoch 38/100\n",
      "5278/5278 [==============================] - 0s 74us/step - loss: 0.0048 - accuracy: 0.9998 - val_loss: 0.0168 - val_accuracy: 0.9932\n",
      "Epoch 39/100\n",
      "5278/5278 [==============================] - 0s 72us/step - loss: 0.0041 - accuracy: 0.9996 - val_loss: 0.0192 - val_accuracy: 0.9932\n",
      "Epoch 40/100\n",
      "5278/5278 [==============================] - 0s 66us/step - loss: 0.0037 - accuracy: 0.9998 - val_loss: 0.0202 - val_accuracy: 0.9932\n",
      "Epoch 41/100\n",
      "5278/5278 [==============================] - 0s 73us/step - loss: 0.0032 - accuracy: 0.9998 - val_loss: 0.0214 - val_accuracy: 0.9924\n",
      "Epoch 42/100\n",
      "5278/5278 [==============================] - 1s 104us/step - loss: 0.0037 - accuracy: 1.0000 - val_loss: 0.0186 - val_accuracy: 0.9932\n",
      "Epoch 43/100\n",
      "5278/5278 [==============================] - 0s 68us/step - loss: 0.0031 - accuracy: 0.9998 - val_loss: 0.0178 - val_accuracy: 0.9932\n",
      "Epoch 44/100\n",
      "5278/5278 [==============================] - 0s 72us/step - loss: 0.0031 - accuracy: 1.0000 - val_loss: 0.0171 - val_accuracy: 0.9932\n",
      "Epoch 45/100\n",
      "5278/5278 [==============================] - 0s 66us/step - loss: 0.0026 - accuracy: 1.0000 - val_loss: 0.0173 - val_accuracy: 0.9939\n",
      "Epoch 46/100\n",
      "5278/5278 [==============================] - 0s 65us/step - loss: 0.0027 - accuracy: 1.0000 - val_loss: 0.0168 - val_accuracy: 0.9939\n",
      "Epoch 47/100\n",
      "5278/5278 [==============================] - 0s 72us/step - loss: 0.0025 - accuracy: 0.9998 - val_loss: 0.0171 - val_accuracy: 0.9947\n",
      "Epoch 48/100\n",
      "5278/5278 [==============================] - 0s 72us/step - loss: 0.0019 - accuracy: 1.0000 - val_loss: 0.0163 - val_accuracy: 0.9955\n",
      "Epoch 49/100\n",
      "5278/5278 [==============================] - 0s 80us/step - loss: 0.0017 - accuracy: 1.0000 - val_loss: 0.0166 - val_accuracy: 0.9939\n",
      "Epoch 50/100\n",
      "5278/5278 [==============================] - 0s 73us/step - loss: 0.0016 - accuracy: 1.0000 - val_loss: 0.0176 - val_accuracy: 0.9932\n",
      "Epoch 51/100\n",
      "5278/5278 [==============================] - 0s 68us/step - loss: 0.0016 - accuracy: 1.0000 - val_loss: 0.0175 - val_accuracy: 0.9932\n",
      "Epoch 52/100\n",
      "5278/5278 [==============================] - 0s 76us/step - loss: 0.0016 - accuracy: 1.0000 - val_loss: 0.0159 - val_accuracy: 0.9955\n",
      "Epoch 53/100\n",
      "5278/5278 [==============================] - 0s 71us/step - loss: 0.0022 - accuracy: 0.9994 - val_loss: 0.0216 - val_accuracy: 0.9939\n",
      "Epoch 54/100\n",
      "5278/5278 [==============================] - 0s 73us/step - loss: 0.0014 - accuracy: 1.0000 - val_loss: 0.0200 - val_accuracy: 0.9939\n",
      "Epoch 55/100\n",
      "5278/5278 [==============================] - 0s 74us/step - loss: 9.6107e-04 - accuracy: 1.0000 - val_loss: 0.0178 - val_accuracy: 0.9947\n",
      "Epoch 56/100\n"
     ]
    },
    {
     "name": "stdout",
     "output_type": "stream",
     "text": [
      "5278/5278 [==============================] - 0s 85us/step - loss: 0.0011 - accuracy: 1.0000 - val_loss: 0.0191 - val_accuracy: 0.9939\n",
      "Epoch 57/100\n",
      "5278/5278 [==============================] - 0s 71us/step - loss: 0.0015 - accuracy: 0.9996 - val_loss: 0.0168 - val_accuracy: 0.9947\n",
      "Epoch 58/100\n",
      "5278/5278 [==============================] - 0s 66us/step - loss: 7.5888e-04 - accuracy: 1.0000 - val_loss: 0.0164 - val_accuracy: 0.9939\n",
      "Epoch 59/100\n",
      "5278/5278 [==============================] - 0s 67us/step - loss: 7.0670e-04 - accuracy: 1.0000 - val_loss: 0.0156 - val_accuracy: 0.9962\n",
      "Epoch 60/100\n",
      "5278/5278 [==============================] - 0s 69us/step - loss: 6.2303e-04 - accuracy: 1.0000 - val_loss: 0.0212 - val_accuracy: 0.9939\n",
      "Epoch 61/100\n",
      "5278/5278 [==============================] - 0s 65us/step - loss: 6.4277e-04 - accuracy: 1.0000 - val_loss: 0.0161 - val_accuracy: 0.9947\n",
      "Epoch 62/100\n",
      "5278/5278 [==============================] - 0s 70us/step - loss: 6.0216e-04 - accuracy: 1.0000 - val_loss: 0.0180 - val_accuracy: 0.9955\n",
      "Epoch 63/100\n",
      "5278/5278 [==============================] - 0s 70us/step - loss: 5.2749e-04 - accuracy: 1.0000 - val_loss: 0.0186 - val_accuracy: 0.9955\n",
      "Epoch 64/100\n",
      "5278/5278 [==============================] - 0s 67us/step - loss: 5.0129e-04 - accuracy: 1.0000 - val_loss: 0.0155 - val_accuracy: 0.9955\n",
      "Epoch 65/100\n",
      "5278/5278 [==============================] - 0s 69us/step - loss: 5.0951e-04 - accuracy: 1.0000 - val_loss: 0.0190 - val_accuracy: 0.9947\n",
      "Epoch 66/100\n",
      "5278/5278 [==============================] - 0s 73us/step - loss: 5.5392e-04 - accuracy: 1.0000 - val_loss: 0.0168 - val_accuracy: 0.9955\n",
      "Epoch 67/100\n",
      "5278/5278 [==============================] - 0s 68us/step - loss: 0.0022 - accuracy: 0.9994 - val_loss: 0.0161 - val_accuracy: 0.9947\n",
      "Epoch 68/100\n",
      "5278/5278 [==============================] - 0s 70us/step - loss: 0.0012 - accuracy: 0.9998 - val_loss: 0.0162 - val_accuracy: 0.9947\n",
      "Epoch 69/100\n",
      "5278/5278 [==============================] - 0s 69us/step - loss: 3.8711e-04 - accuracy: 1.0000 - val_loss: 0.0159 - val_accuracy: 0.9939\n",
      "Epoch 70/100\n",
      "5278/5278 [==============================] - 0s 72us/step - loss: 3.6951e-04 - accuracy: 1.0000 - val_loss: 0.0169 - val_accuracy: 0.9955\n",
      "Epoch 71/100\n",
      "5278/5278 [==============================] - 0s 72us/step - loss: 3.0336e-04 - accuracy: 1.0000 - val_loss: 0.0158 - val_accuracy: 0.9955\n",
      "Epoch 72/100\n",
      "5278/5278 [==============================] - 0s 70us/step - loss: 2.7240e-04 - accuracy: 1.0000 - val_loss: 0.0189 - val_accuracy: 0.9947\n",
      "Epoch 73/100\n",
      "5278/5278 [==============================] - 0s 71us/step - loss: 2.5860e-04 - accuracy: 1.0000 - val_loss: 0.0184 - val_accuracy: 0.9955\n",
      "Epoch 74/100\n",
      "5278/5278 [==============================] - 0s 73us/step - loss: 2.4647e-04 - accuracy: 1.0000 - val_loss: 0.0184 - val_accuracy: 0.9955\n",
      "Epoch 75/100\n",
      "5278/5278 [==============================] - 0s 70us/step - loss: 2.2895e-04 - accuracy: 1.0000 - val_loss: 0.0188 - val_accuracy: 0.9955\n",
      "Epoch 76/100\n",
      "5278/5278 [==============================] - 0s 69us/step - loss: 2.2341e-04 - accuracy: 1.0000 - val_loss: 0.0202 - val_accuracy: 0.9947\n",
      "Epoch 77/100\n",
      "5278/5278 [==============================] - 0s 68us/step - loss: 2.2749e-04 - accuracy: 1.0000 - val_loss: 0.0170 - val_accuracy: 0.9955\n",
      "Epoch 78/100\n",
      "5278/5278 [==============================] - 0s 67us/step - loss: 2.2078e-04 - accuracy: 1.0000 - val_loss: 0.0166 - val_accuracy: 0.9962\n",
      "Epoch 79/100\n",
      "5278/5278 [==============================] - 0s 77us/step - loss: 2.2222e-04 - accuracy: 1.0000 - val_loss: 0.0183 - val_accuracy: 0.9955\n",
      "Epoch 80/100\n",
      "5278/5278 [==============================] - 0s 76us/step - loss: 2.5096e-04 - accuracy: 1.0000 - val_loss: 0.0193 - val_accuracy: 0.9962\n",
      "Epoch 81/100\n",
      "5278/5278 [==============================] - 0s 69us/step - loss: 1.6385e-04 - accuracy: 1.0000 - val_loss: 0.0169 - val_accuracy: 0.9955\n",
      "Epoch 82/100\n",
      "5278/5278 [==============================] - 0s 69us/step - loss: 1.5784e-04 - accuracy: 1.0000 - val_loss: 0.0170 - val_accuracy: 0.9955\n",
      "Epoch 83/100\n",
      "5278/5278 [==============================] - 0s 70us/step - loss: 1.5741e-04 - accuracy: 1.0000 - val_loss: 0.0162 - val_accuracy: 0.9962\n",
      "Epoch 84/100\n",
      "5278/5278 [==============================] - 0s 72us/step - loss: 1.5807e-04 - accuracy: 1.0000 - val_loss: 0.0215 - val_accuracy: 0.9947\n",
      "Epoch 85/100\n",
      "5278/5278 [==============================] - 0s 68us/step - loss: 1.2882e-04 - accuracy: 1.0000 - val_loss: 0.0187 - val_accuracy: 0.9955\n",
      "Epoch 86/100\n",
      "5278/5278 [==============================] - 0s 68us/step - loss: 1.7239e-04 - accuracy: 1.0000 - val_loss: 0.0195 - val_accuracy: 0.9955\n",
      "Epoch 87/100\n",
      "5278/5278 [==============================] - 0s 68us/step - loss: 0.0013 - accuracy: 0.9996 - val_loss: 0.0153 - val_accuracy: 0.9962\n",
      "Epoch 88/100\n",
      "5278/5278 [==============================] - 0s 68us/step - loss: 1.1466e-04 - accuracy: 1.0000 - val_loss: 0.0156 - val_accuracy: 0.9955\n",
      "Epoch 89/100\n",
      "5278/5278 [==============================] - 0s 68us/step - loss: 9.4799e-05 - accuracy: 1.0000 - val_loss: 0.0156 - val_accuracy: 0.9955\n",
      "Epoch 90/100\n",
      "5278/5278 [==============================] - 0s 70us/step - loss: 9.0118e-05 - accuracy: 1.0000 - val_loss: 0.0206 - val_accuracy: 0.9947\n",
      "Epoch 91/100\n",
      "5278/5278 [==============================] - 0s 64us/step - loss: 8.6777e-05 - accuracy: 1.0000 - val_loss: 0.0183 - val_accuracy: 0.9955\n",
      "Epoch 92/100\n",
      "5278/5278 [==============================] - 0s 74us/step - loss: 8.1128e-05 - accuracy: 1.0000 - val_loss: 0.0159 - val_accuracy: 0.9962\n",
      "Epoch 93/100\n",
      "5278/5278 [==============================] - 0s 71us/step - loss: 1.2771e-04 - accuracy: 1.0000 - val_loss: 0.0170 - val_accuracy: 0.9947\n",
      "Epoch 94/100\n",
      "5278/5278 [==============================] - 0s 67us/step - loss: 0.0028 - accuracy: 0.9994 - val_loss: 0.0261 - val_accuracy: 0.9917\n",
      "Epoch 95/100\n",
      "5278/5278 [==============================] - 0s 80us/step - loss: 0.0011 - accuracy: 0.9998 - val_loss: 0.0159 - val_accuracy: 0.9955\n",
      "Epoch 96/100\n",
      "5278/5278 [==============================] - 0s 69us/step - loss: 2.2123e-04 - accuracy: 1.0000 - val_loss: 0.0158 - val_accuracy: 0.9955\n",
      "Epoch 97/100\n",
      "5278/5278 [==============================] - 0s 69us/step - loss: 1.2645e-04 - accuracy: 1.0000 - val_loss: 0.0160 - val_accuracy: 0.9955\n",
      "Epoch 98/100\n",
      "5278/5278 [==============================] - 0s 70us/step - loss: 1.0848e-04 - accuracy: 1.0000 - val_loss: 0.0170 - val_accuracy: 0.9955\n",
      "Epoch 99/100\n",
      "5278/5278 [==============================] - 0s 70us/step - loss: 9.8415e-05 - accuracy: 1.0000 - val_loss: 0.0170 - val_accuracy: 0.9955\n",
      "Epoch 100/100\n",
      "5278/5278 [==============================] - 0s 73us/step - loss: 8.7836e-05 - accuracy: 1.0000 - val_loss: 0.0174 - val_accuracy: 0.9955\n"
     ]
    }
   ],
   "source": [
    "history = model.fit(X_train, y_train,\n",
    "                    epochs=100,\n",
    "                    verbose=True,\n",
    "                    validation_data=(X_test, y_test),\n",
    "                    batch_size=20)"
   ]
  },
  {
   "cell_type": "markdown",
   "metadata": {},
   "source": [
    "# Training  and Testing Accuracy of Deep learning model"
   ]
  },
  {
   "cell_type": "code",
   "execution_count": 55,
   "metadata": {},
   "outputs": [
    {
     "name": "stdout",
     "output_type": "stream",
     "text": [
      "Training Accuracy: 1.0000\n",
      "Testing Accuracy:  0.9939\n"
     ]
    }
   ],
   "source": [
    "loss, accuracy = model.evaluate(X_train, y_train, verbose=False)\n",
    "print(\"Training Accuracy: {:.4f}\".format(accuracy))\n",
    "loss, accuracy = model.evaluate(X_test, y_test, verbose=False)\n",
    "print(\"Testing Accuracy:  {:.4f}\".format(accuracy))"
   ]
  },
  {
   "cell_type": "code",
   "execution_count": 92,
   "metadata": {},
   "outputs": [
    {
     "name": "stdout",
     "output_type": "stream",
     "text": [
      "dict_keys(['val_loss', 'val_accuracy', 'loss', 'accuracy'])\n"
     ]
    }
   ],
   "source": [
    "print(history.history.keys())"
   ]
  },
  {
   "cell_type": "markdown",
   "metadata": {},
   "source": [
    "# visulization of Training and validation accuracy \n"
   ]
  },
  {
   "cell_type": "markdown",
   "metadata": {},
   "source": [
    "# visulization of Training and validation loss"
   ]
  },
  {
   "cell_type": "code",
   "execution_count": 95,
   "metadata": {},
   "outputs": [],
   "source": [
    "def plot_history(history):\n",
    "    acc = history.history['accuracy']\n",
    "    val_acc = history.history['val_accuracy']\n",
    "    loss = history.history['loss']\n",
    "    val_loss = history.history['val_loss']\n",
    "    x = range(1, len(acc) + 1)\n",
    "\n",
    "    plt.figure(figsize=(12, 5))\n",
    "    plt.subplot(1, 2, 1)\n",
    "    plt.plot(x, acc, 'b', label='Training acc')\n",
    "    plt.plot(x, val_acc, 'r', label='Validation acc')\n",
    "    plt.title('Training and validation accuracy')\n",
    "    plt.legend()\n",
    "    plt.subplot(1, 2, 2)\n",
    "    plt.plot(x, loss, 'b', label='Training loss')\n",
    "    plt.plot(x, val_loss, 'r', label='Validation loss')\n",
    "    plt.title('Training and validation loss')\n",
    "    plt.legend()"
   ]
  },
  {
   "cell_type": "code",
   "execution_count": 96,
   "metadata": {},
   "outputs": [
    {
     "data": {
      "image/png": "[encoded data removed]",
      "text/plain": [
       "<Figure size 864x360 with 2 Axes>"
      ]
     },
     "metadata": {
      "needs_background": "light"
     },
     "output_type": "display_data"
    }
   ],
   "source": [
    "plot_history(history)"
   ]
  },
  {
   "cell_type": "markdown",
   "metadata": {},
   "source": [
    "# KNN"
   ]
  },
  {
   "cell_type": "code",
   "execution_count": 59,
   "metadata": {},
   "outputs": [
    {
     "name": "stdout",
     "output_type": "stream",
     "text": [
      "confusion_matrix: [[564   2]\n",
      " [ 16  78]]\n",
      "F1_ score : 0.896551724137931\n",
      "Accuracy score: 0.9727272727272728\n",
      "precision_score: 0.975\n",
      "recall_score: 0.8297872340425532\n"
     ]
    }
   ],
   "source": [
    "from sklearn.neighbors import KNeighborsClassifier\n",
    "knn = KNeighborsClassifier(n_neighbors = 5)\n",
    "knn.fit(X_train , y_train)\n",
    "y_pred = knn.predict(X_test)\n",
    "print(\"confusion_matrix:\",confusion_matrix(y_test , y_pred))\n",
    "print(\"F1_ score :\",metrics.f1_score(y_test , y_pred))\n",
    "print(\"Accuracy score:\",metrics.accuracy_score(y_test , y_pred))\n",
    "print(\"precision_score:\",metrics.precision_score(y_test , y_pred))\n",
    "print(\"recall_score:\",metrics.recall_score(y_test , y_pred))"
   ]
  },
  {
   "cell_type": "code",
   "execution_count": null,
   "metadata": {},
   "outputs": [],
   "source": []
  },
  {
   "cell_type": "markdown",
   "metadata": {},
   "source": [
    "# Naive Bayes"
   ]
  },
  {
   "cell_type": "code",
   "execution_count": 60,
   "metadata": {},
   "outputs": [
    {
     "name": "stdout",
     "output_type": "stream",
     "text": [
      "confusion_matrix: [[484  82]\n",
      " [ 22  72]]\n",
      "F1_ score : 0.5806451612903226\n",
      "Accuracy score: 0.8424242424242424\n",
      "precision_score: 0.4675324675324675\n",
      "recall_score: 0.7659574468085106\n"
     ]
    }
   ],
   "source": [
    "from sklearn.naive_bayes import GaussianNB\n",
    "classifier = GaussianNB()\n",
    "classifier.fit(X_train, y_train)\n",
    "y_nb = classifier.predict(X_test)\n",
    "print(\"confusion_matrix:\",confusion_matrix(y_test , y_nb))\n",
    "print(\"F1_ score :\",metrics.f1_score(y_test , y_nb))\n",
    "print(\"Accuracy score:\",metrics.accuracy_score(y_test , y_nb))\n",
    "print(\"precision_score:\",metrics.precision_score(y_test , y_nb))\n",
    "print(\"recall_score:\",metrics.recall_score(y_test , y_nb))"
   ]
  },
  {
   "cell_type": "markdown",
   "metadata": {},
   "source": [
    "# Decision Tree Classifier"
   ]
  },
  {
   "cell_type": "code",
   "execution_count": 61,
   "metadata": {},
   "outputs": [
    {
     "name": "stdout",
     "output_type": "stream",
     "text": [
      "confusion_matrix: [[552  14]\n",
      " [ 42  52]]\n",
      "F1_ score : 0.65\n",
      "Accuracy score: 0.9151515151515152\n",
      "precision_score: 0.7878787878787878\n",
      "recall_score: 0.5531914893617021\n"
     ]
    }
   ],
   "source": [
    "from sklearn .tree import DecisionTreeClassifier\n",
    "dt = DecisionTreeClassifier(criterion = \"entropy\", max_depth = 4)\n",
    "dt.fit(X_train,y_train)\n",
    "y_dt=dt.predict(X_test)\n",
    "print(\"confusion_matrix:\",confusion_matrix(y_test , y_dt))\n",
    "print(\"F1_ score :\",metrics.f1_score(y_test , y_dt))\n",
    "print(\"Accuracy score:\",metrics.accuracy_score(y_test , y_dt))\n",
    "print(\"precision_score:\",metrics.precision_score(y_test , y_dt))\n",
    "print(\"recall_score:\",metrics.recall_score(y_test , y_dt))"
   ]
  },
  {
   "cell_type": "markdown",
   "metadata": {},
   "source": [
    "# Random forest"
   ]
  },
  {
   "cell_type": "code",
   "execution_count": 62,
   "metadata": {},
   "outputs": [
    {
     "name": "stdout",
     "output_type": "stream",
     "text": [
      "confusion_matrix: [[564   2]\n",
      " [ 16  78]]\n",
      "F1_ score : 0.896551724137931\n",
      "Accuracy score: 0.9727272727272728\n",
      "precision_score: 0.975\n",
      "recall_score: 0.8297872340425532\n"
     ]
    }
   ],
   "source": [
    "from sklearn.ensemble import RandomForestClassifier\n",
    "rf = RandomForestClassifier(n_estimators = 50)\n",
    "rf.fit(X_train,y_train)\n",
    "rf_pred=knn.predict(X_test)\n",
    "print(\"confusion_matrix:\",confusion_matrix(y_test , rf_pred))\n",
    "print(\"F1_ score :\",metrics.f1_score(y_test , rf_pred))\n",
    "print(\"Accuracy score:\",metrics.accuracy_score(y_test , rf_pred))\n",
    "print(\"precision_score:\",metrics.precision_score(y_test , rf_pred))\n",
    "print(\"recall_score:\",metrics.recall_score(y_test , rf_pred))"
   ]
  },
  {
   "cell_type": "markdown",
   "metadata": {},
   "source": [
    "# conclusion "
   ]
  },
  {
   "cell_type": "markdown",
   "metadata": {},
   "source": [
    "deep learning algorithm has the highest accuracy = 99%\n",
    "random forest has the second highest accuracy = 97%"
   ]
  },
  {
   "cell_type": "code",
   "execution_count": null,
   "metadata": {},
   "outputs": [],
   "source": []
  }
 ],
 "metadata": {
  "kernelspec": {
   "display_name": "Python 3",
   "language": "python",
   "name": "python3"
  },
  "language_info": {
   "codemirror_mode": {
    "name": "ipython",
    "version": 3
   },
   "file_extension": ".py",
   "mimetype": "text/x-python",
   "name": "python",
   "nbconvert_exporter": "python",
   "pygments_lexer": "ipython3",
   "version": "3.7.3"
  }
 },
 "nbformat": 4,
 "nbformat_minor": 2
}
